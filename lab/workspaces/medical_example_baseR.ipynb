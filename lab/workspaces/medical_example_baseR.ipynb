{
  "metadata": {
    "language_info": {
      "name": ""
    },
    "kernelspec": {
      "name": "webR",
      "display_name": "R (webR)",
      "language": "R"
    }
  },
  "nbformat_minor": 4,
  "nbformat": 4,
  "cells": [
    {
      "cell_type": "markdown",
      "source": "# Jupyter Notebook Exploring Heart Failure Clinical Data\n\n\n## Summary Statistics\n\nBefore we do anything else, let's import the data into R. Here we'll just download the data directly from [kaggle](https://www.kaggle.com/datasets/andrewmvd/heart-failure-clinical-data?resource=download)\n.",
      "metadata": {}
    },
    {
      "cell_type": "code",
      "source": "med_data <-read.csv('https://raw.githubusercontent.com/dcolinmorgan/r-jupyterlite-website/main/lab/workspaces/heart_failure_clinical_records_dataset.csv')",
      "metadata": {
        "trusted": true
      },
      "execution_count": null,
      "outputs": []
    },
    {
      "cell_type": "markdown",
      "source": "## dataframe",
      "metadata": {}
    },
    {
      "cell_type": "code",
      "source": "head(med_data)",
      "metadata": {
        "trusted": true
      },
      "execution_count": null,
      "outputs": []
    },
    {
      "cell_type": "markdown",
      "source": "Now that the data is loaded into R, let's show some statistical properties of the data using `summary()`.",
      "metadata": {}
    },
    {
      "cell_type": "code",
      "source": "summary(med_data)",
      "metadata": {
        "trusted": true
      },
      "execution_count": null,
      "outputs": []
    },
    {
      "cell_type": "code",
      "source": "dim(med_data)",
      "metadata": {
        "trusted": true
      },
      "execution_count": null,
      "outputs": []
    },
    {
      "cell_type": "markdown",
      "source": "## Data Visualisation and Exploration\n\nThe table of results above gives us a good numerical summary of the data, but it looks a little dry. Let's try creating something a little more interesting visually.\n\n### Pairs Plot Visual Summary\n\nWe'll create a visual summary using the `pairs()` plotting function. This will create a matrix of scatter plots showing some of the measurements in the dataset plotted against one another. We'll also set the colour of the points using the age group of each subject.",
      "metadata": {
        "tags": []
      }
    },
    {
      "cell_type": "code",
      "source": "med_data$sex[med_data$sex == 0] <- \"female\"\nmed_data$sex[med_data$sex == 1] <- \"male\"",
      "metadata": {
        "trusted": true
      },
      "execution_count": null,
      "outputs": []
    },
    {
      "cell_type": "code",
      "source": "col <- c(\"red\", \"yellow\")\nnames(col) <- c(\"male\", \"female\")\npairs(med_data[, c(3,5,7,8,9)], main=\"medical dataset\", pch=21, bg=col[med_data$sex])",
      "metadata": {
        "trusted": true
      },
      "execution_count": null,
      "outputs": []
    },
    {
      "cell_type": "code",
      "source": "head(med_data)",
      "metadata": {
        "trusted": true
      },
      "execution_count": null,
      "outputs": []
    },
    {
      "cell_type": "markdown",
      "source": "subset columns",
      "metadata": {}
    },
    {
      "cell_type": "code",
      "source": "med_data[0:10,c('platelets','sex')] ### rows then column name",
      "metadata": {
        "trusted": true
      },
      "execution_count": null,
      "outputs": []
    },
    {
      "cell_type": "markdown",
      "source": "math operations between numeric columns",
      "metadata": {}
    },
    {
      "cell_type": "code",
      "source": "mean(med_data$platelets[med_data$sex == 'male'])",
      "metadata": {
        "trusted": true
      },
      "execution_count": null,
      "outputs": []
    },
    {
      "cell_type": "code",
      "source": "mean(med_data$platelets[med_data$sex == 'female'])",
      "metadata": {
        "trusted": true
      },
      "execution_count": null,
      "outputs": []
    },
    {
      "cell_type": "code",
      "source": "(t.test(platelets ~ sex, data = med_data, var.equal=TRUE))",
      "metadata": {
        "trusted": true
      },
      "execution_count": null,
      "outputs": []
    },
    {
      "cell_type": "markdown",
      "source": "### Subject ejection_fraction Histograms \nLet's create some plots of subject platelet in the form of a histogram. We'll use faceting to make several plots at once, so we can see the how the data looks spead over the different age groups of subject.",
      "metadata": {}
    },
    {
      "cell_type": "code",
      "source": "hist(med_data$ejection_fraction[med_data$sex == 'male'],breaks=4)",
      "metadata": {
        "trusted": true
      },
      "execution_count": null,
      "outputs": []
    },
    {
      "cell_type": "code",
      "source": "hist(med_data$ejection_fraction[med_data$sex == \"female\"],breaks=20)",
      "metadata": {
        "trusted": true
      },
      "execution_count": null,
      "outputs": []
    },
    {
      "cell_type": "code",
      "source": "hist(x = med_data$ejection_fraction[med_data$sex == 'male'],\n     main = \"Two Histograms in one\",\n     xlab = \"age\",\n     ylab = \"Frequency\",\n     breaks = 30,\n     xlim = c(10, 90),\n     col = \"red\"\n     )\n\nhist(x = med_data$ejection_fraction[med_data$sex == 'female'],\n     breaks = 30,\n     xlim = c(10, 90),\n     add = TRUE, # Add plot to previous one!\n      col = \"yellow\"\n     )",
      "metadata": {
        "trusted": true
      },
      "execution_count": null,
      "outputs": []
    },
    {
      "cell_type": "markdown",
      "source": "In this dataset it looks like old subjects might have lower overall ejection fraction on average than the other age groups. Let's see if we can formalise something along those lines with a statistical test.\n\nWe'll use a T-test to see if there is a difference between average ejection fraction between age groups of subject.",
      "metadata": {}
    },
    {
      "cell_type": "code",
      "source": "(t.test(ejection_fraction ~ sex, data = med_data, var.equal=TRUE))",
      "metadata": {
        "trusted": true
      },
      "execution_count": null,
      "outputs": []
    },
    {
      "cell_type": "markdown",
      "source": "## Fitting a model using Logistic Regression\n\nLet's pretend a subject super-fan has seen the plots we made in the previous section. After seeing the clustering in the first pairs plot they suspect that it may be possible to predict the livign status of a subject based on medical measurements. They then ask us if we would be able to build a predictive model to find \"alive\" subjects based on the measurements.\n\nSince the outcome variable here is logical, we choose to perform a logistic regression. First, let's split the data into training and validation sets, and create a new indicatior column for subjects which have died subjects.",
      "metadata": {}
    },
    {
      "cell_type": "code",
      "source": "head(med_data)",
      "metadata": {
        "trusted": true
      },
      "execution_count": null,
      "outputs": []
    },
    {
      "cell_type": "code",
      "source": "set.seed(0)\nN <- nrow(med_data)\nidx <- sample(1:N, N*2/3)\ntrain <- med_data[idx,]\nvalidation <- med_data[-idx,]",
      "metadata": {
        "trusted": true
      },
      "execution_count": null,
      "outputs": []
    },
    {
      "cell_type": "markdown",
      "source": "Next, we'll fit a logistic regression (logit) model using R's `glm()` function,",
      "metadata": {}
    },
    {
      "cell_type": "code",
      "source": "train$dead = train$DEATH_EVENT == \"1\"\nmodel <- glm(dead ~ creatinine_phosphokinase + ejection_fraction + platelets + serum_creatinine + serum_sodium,\n             data = train, family=binomial(link=\"logit\"))\nsummary(model)",
      "metadata": {
        "trusted": true
      },
      "execution_count": null,
      "outputs": []
    },
    {
      "cell_type": "markdown",
      "source": "### Assessing Model Predictions\n\nWe now have a model that uses penguin measurements to predict if that subject is a alive. Let's try it out using our validation set,",
      "metadata": {}
    },
    {
      "cell_type": "code",
      "source": "prediction = ifelse(predict(model, validation, type = \"response\") < 0.5, \"dead\", \"not dead\")\ntable_mat=table(prediction, validation$DEATH_EVENT)",
      "metadata": {
        "trusted": true
      },
      "execution_count": null,
      "outputs": []
    },
    {
      "cell_type": "markdown",
      "source": "## how to tell if this is good prediction?\nevery metric tells a different story and depends on which your study is interested in\n\naccuracy = (TN + TP)/(TP + TN + FP + FN)\n\n[adapted from here](https://www.guru99.com/r-generalized-linear-model.html#9)",
      "metadata": {}
    },
    {
      "cell_type": "code",
      "source": "accuracy_Test <- sum(diag(table_mat)) / sum(table_mat)\n\n## line by line operations\n\n\naccuracy_Test",
      "metadata": {
        "trusted": true
      },
      "execution_count": null,
      "outputs": []
    },
    {
      "cell_type": "code",
      "source": "precision <- function(matrix) {\n\t# True positive\n    tp <- matrix[2, 2]\n\t# false positive\n    fp <- matrix[1, 2]\n    return (tp / (tp + fp))\n}\n\nrecall <- function(matrix) {\n# true positive\n    tp <- matrix[2, 2]# false positive\n    fn <- matrix[2, 1]\n    return (tp / (tp + fn))\n}",
      "metadata": {
        "trusted": true
      },
      "execution_count": null,
      "outputs": []
    },
    {
      "cell_type": "code",
      "source": "prec <- precision(table_mat)\nprec\nrec <- recall(table_mat)\nrec",
      "metadata": {
        "trusted": true
      },
      "execution_count": null,
      "outputs": []
    },
    {
      "cell_type": "code",
      "source": "f1 <- 2 * ((prec * rec) / (prec + rec))\nf1",
      "metadata": {
        "trusted": true
      },
      "execution_count": null,
      "outputs": []
    },
    {
      "cell_type": "code",
      "source": "",
      "metadata": {},
      "execution_count": null,
      "outputs": []
    }
  ]
}